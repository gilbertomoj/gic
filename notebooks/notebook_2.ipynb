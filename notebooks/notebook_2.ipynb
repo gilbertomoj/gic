{
 "cells": [
  {
   "cell_type": "code",
   "execution_count": 44,
   "outputs": [],
   "source": [
    "import pandas as pd\n",
    "\n",
    "df_1 = pd.read_csv(\"../2022/pe_data_2022-1.csv\", encoding='UTF-8', sep=\"|\")\n",
    "df_2 = pd.read_csv(\"../2021/pe_data_2021-1.csv\", encoding='UTF-8', sep=\"|\")\n",
    "df_3 = pd.read_csv(\"../2020/pe_data_2020-1.csv\", encoding='UTF-8', sep=\"|\")\n",
    "df_4 = pd.read_csv(\"../2019/pe_data_2019-1.csv\", encoding='UTF-8', sep=\"|\")"
   ],
   "metadata": {
    "collapsed": false,
    "ExecuteTime": {
     "end_time": "2024-02-29T03:20:02.680488800Z",
     "start_time": "2024-02-29T03:20:00.954167600Z"
    }
   },
   "id": "69091725eb60b8f2"
  },
  {
   "cell_type": "code",
   "execution_count": 45,
   "outputs": [
    {
     "data": {
      "text/plain": "Index(['ANO', 'EDICAO', 'ETAPA', 'DS_ETAPA', 'CODIGO_IES', 'NOME_IES',\n       'SIGLA_IES', 'UF_IES', 'CODIGO_CAMPUS', 'NOME_CAMPUS', 'UF_CAMPUS',\n       'MUNICIPIO_CAMPUS', 'CODIGO_CURSO', 'NOME_CURSO', 'GRAU', 'TURNO',\n       'DS_PERIODICIDADE', 'TP_COTA', 'TIPO_MOD_CONCORRENCIA',\n       'MOD_CONCORRENCIA', 'QT_VAGAS_CONCORRENCIA', 'PERCENTUAL_BONUS',\n       'PESO_L', 'PESO_CH', 'PESO_CN', 'PESO_M', 'PESO_R', 'NOTA_MINIMA_L',\n       'NOTA_MINIMA_CH', 'NOTA_MINIMA_CN', 'NOTA_MINIMA_M', 'NOTA_MINIMA_R',\n       'MEDIA_MINIMA', 'CPF', 'INSCRICAO_ENEM', 'INSCRITO', 'SEXO',\n       'DATA_NASCIMENTO', 'UF_CANDIDATO', 'MUNICIPIO_CANDIDATO', 'OPCAO',\n       'NOTA_L', 'NOTA_CH', 'NOTA_CN', 'NOTA_M', 'NOTA_R', 'NOTA_L_COM_PESO',\n       'NOTA_CH_COM_PESO', 'NOTA_CN_COM_PESO', 'NOTA_M_COM_PESO',\n       'NOTA_R_COM_PESO', 'NOTA_CANDIDATO', 'NOTA_CORTE', 'CLASSIFICACAO',\n       'APROVADO', 'MATRICULA'],\n      dtype='object')"
     },
     "execution_count": 45,
     "metadata": {},
     "output_type": "execute_result"
    }
   ],
   "source": [
    "df_1.columns"
   ],
   "metadata": {
    "collapsed": false,
    "ExecuteTime": {
     "end_time": "2024-02-29T03:20:02.685526800Z",
     "start_time": "2024-02-29T03:20:02.683519700Z"
    }
   },
   "id": "5b586f09f1d70450"
  },
  {
   "cell_type": "code",
   "execution_count": 46,
   "outputs": [
    {
     "data": {
      "text/plain": "Index(['NU_ANO', 'NU_EDICAO', 'CO_ETAPA', 'DS_ETAPA', 'CO_IES', 'NO_IES',\n       'SIGLA_IES', 'SG_UF_IES', 'CO_CAMPUS', 'NO_CAMPUS', 'SG_UF_CAMPUS',\n       'NO_MUNUCIPIO_CAMPUS', 'CO_IES_CURSO', 'NO_CURSO', 'DS_GRAU',\n       'DS_TURNO', 'TP_MOD_CONCORRENCIA', 'DS_MOD_CONCORRENCIA',\n       'NU_PERCENTUAL_BONUS', 'NU_PESO_L', 'NU_PESO_CH', 'NU_PESO_CN',\n       'NU_PESO_M', 'NU_PESO_R', 'NOTA_MINIMA_L', 'NOTA_MINIMA_CH',\n       'NOTA_MINIMA_CN', 'NOTA_MINIMA_M', 'NOTA_MINIMA_R', 'MEDIA_MINIMA',\n       'NU_CPF', 'CO_INSCRICAO_ENEM', 'NO_INSCRITO', 'TP_SEXO',\n       'DT_NASCIMENTO', 'SG_UF_CANDIDATO', 'MUNICIPIO_CANDIDATO', 'ST_OPCAO',\n       'NU_NOTA_L', 'NU_NOTA_CH', 'NU_NOTA_CN', 'NU_NOTA_M', 'NU_NOTA_R',\n       'NOTA_L_COM_PESO', 'NOTA_CH_COM_PESO', 'NOTA_CN_COM_PESO',\n       'NOTA_M_COM_PESO', 'NOTA_R_COM_PESO', 'NU_NOTA_CANDIDATO',\n       'NU_NOTACORTE', 'NU_CLASSIFICACAO', 'ST_APROVADO', 'ST_MATRICULA'],\n      dtype='object')"
     },
     "execution_count": 46,
     "metadata": {},
     "output_type": "execute_result"
    }
   ],
   "source": [
    "df_2.columns"
   ],
   "metadata": {
    "collapsed": false,
    "ExecuteTime": {
     "end_time": "2024-02-29T03:20:02.697246700Z",
     "start_time": "2024-02-29T03:20:02.685526800Z"
    }
   },
   "id": "5a7fa52c25f4cab4"
  },
  {
   "cell_type": "code",
   "execution_count": 47,
   "outputs": [
    {
     "data": {
      "text/plain": "Index(['NU_ANO', 'NU_EDICAO', 'CO_ETAPA', 'DS_ETAPA', 'CO_IES', 'NO_IES',\n       'SIGLA_IES', 'SG_UF_IES', 'CO_CAMPUS', 'NO_CAMPUS', 'SG_UF_CAMPUS',\n       'NO_MUNUCIPIO_CAMPUS', 'CO_IES_CURSO', 'NO_CURSO', 'DS_GRAU',\n       'DS_TURNO', 'TP_MOD_CONCORRENCIA', 'DS_MOD_CONCORRENCIA',\n       'NU_PERCENTUAL_BONUS', 'NU_PESO_L', 'NU_PESO_CH', 'NU_PESO_CN',\n       'NU_PESO_M', 'NU_PESO_R', 'NOTA_MINIMA_L', 'NOTA_MINIMA_CH',\n       'NOTA_MINIMA_CN', 'NOTA_MINIMA_M', 'NOTA_MINIMA_R', 'MEDIA_MINIMA',\n       'NU_CPF', 'CO_INSCRICAO_ENEM', 'NO_INSCRITO', 'TP_SEXO',\n       'DT_NASCIMENTO', 'SG_UF_CANDIDATO', 'MUNICIPIO_CANDIDATO', 'ST_OPCAO',\n       'NU_NOTA_L', 'NU_NOTA_CH', 'NU_NOTA_CN', 'NU_NOTA_M', 'NU_NOTA_R',\n       'NOTA_L_COM_PESO', 'NOTA_CH_COM_PESO', 'NOTA_CN_COM_PESO',\n       'NOTA_M_COM_PESO', 'NOTA_R_COM_PESO', 'NU_NOTA_CANDIDATO',\n       'NU_NOTACORTE', 'NU_CLASSIFICACAO', 'ST_APROVADO', 'ST_MATRICULA'],\n      dtype='object')"
     },
     "execution_count": 47,
     "metadata": {},
     "output_type": "execute_result"
    }
   ],
   "source": [
    "df_3.columns"
   ],
   "metadata": {
    "collapsed": false,
    "ExecuteTime": {
     "end_time": "2024-02-29T03:20:02.702628200Z",
     "start_time": "2024-02-29T03:20:02.694238400Z"
    }
   },
   "id": "597801fba52f76c6"
  },
  {
   "cell_type": "code",
   "execution_count": 48,
   "outputs": [
    {
     "data": {
      "text/plain": "Index(['NU_ANO', 'NU_EDICAO', 'CO_ETAPA', 'DS_ETAPA', 'CO_IES', 'NO_IES',\n       'SIGLA_IES', 'SG_UF_IES', 'CO_CAMPUS', 'NO_CAMPUS', 'SG_UF_CAMPUS',\n       'NO_MUNUCIPIO_CAMPUS', 'CO_IES_CURSO', 'NO_CURSO', 'DS_GRAU',\n       'DS_TURNO', 'TP_MOD_CONCORRENCIA', 'DS_MOD_CONCORRENCIA',\n       'NU_PERCENTUAL_BONUS', 'NU_PESO_L', 'NU_PESO_CH', 'NU_PESO_CN',\n       'NU_PESO_M', 'NU_PESO_R', 'NOTA_MINIMA_L', 'NOTA_MINIMA_CH',\n       'NOTA_MINIMA_CN', 'NOTA_MINIMA_M', 'NOTA_MINIMA_R', 'MEDIA_MINIMA',\n       'NU_CPF', 'CO_INSCRICAO_ENEM', 'NO_INSCRITO', 'TP_SEXO',\n       'DT_NASCIMENTO', 'SG_UF_CANDIDATO', 'MUNICIPIO_CANDIDATO', 'ST_OPCAO',\n       'NU_NOTA_L', 'NU_NOTA_CH', 'NU_NOTA_CN', 'NU_NOTA_M', 'NU_NOTA_R',\n       'NOTA_L_COM_PESO', 'NOTA_CH_COM_PESO', 'NOTA_CN_COM_PESO',\n       'NOTA_M_COM_PESO', 'NOTA_R_COM_PESO', 'NU_NOTA_CANDIDATO',\n       'NU_NOTACORTE', 'NU_CLASSIFICACAO', 'ST_APROVADO', 'ST_MATRICULA'],\n      dtype='object')"
     },
     "execution_count": 48,
     "metadata": {},
     "output_type": "execute_result"
    }
   ],
   "source": [
    "df_4.columns"
   ],
   "metadata": {
    "collapsed": false,
    "ExecuteTime": {
     "end_time": "2024-02-29T03:20:02.766682900Z",
     "start_time": "2024-02-29T03:20:02.702628200Z"
    }
   },
   "id": "9e0ef86cc24b77c2"
  },
  {
   "cell_type": "code",
   "execution_count": 49,
   "outputs": [],
   "source": [
    "# Renomeando os campos do ano de 2021 para que todas as bases tenham as colunas com o mesmo nome \n",
    "renaming_columns = {\n",
    "    'NU_ANO': 'ANO',\n",
    "    'NU_EDICAO': 'EDICAO',\n",
    "    'CO_ETAPA': 'ETAPA',\n",
    "    'CO_IES': 'CODIGO_IES',\n",
    "    'NO_IES': 'NOME_IES',\n",
    "    'SG_UF_IES': 'UF_IES',\n",
    "    'CO_CAMPUS': 'CODIGO_CAMPUS',\n",
    "    'NO_CAMPUS': 'NOME_CAMPUS',\n",
    "    'SG_UF_CAMPUS': 'UF_CAMPUS',\n",
    "    'NO_MUNUCIPIO_CAMPUS': 'MUNICIPIO_CAMPUS',\n",
    "    'CO_IES_CURSO': 'CODIGO_CURSO',\n",
    "    'NO_CURSO': 'NOME_CURSO',\n",
    "    'DS_GRAU': 'GRAU',\n",
    "    'DS_TURNO': 'TURNO',\n",
    "    'TP_MOD_CONCORRENCIA': 'TP_COTA',\n",
    "    'DS_MOD_CONCORRENCIA': 'TIPO_MOD_CONCORRENCIA',\n",
    "    'NU_PERCENTUAL_BONUS': 'PERCENTUAL_BONUS',\n",
    "    'NU_PESO_L': 'PESO_L',\n",
    "    'NU_PESO_CH': 'PESO_CH',\n",
    "    'NU_PESO_CN': 'PESO_CN',\n",
    "    'NU_PESO_M': 'PESO_M',\n",
    "    'NU_PESO_R': 'PESO_R',\n",
    "    'NU_NOTA_L': 'NOTA_MINIMA_L',\n",
    "    'NU_NOTA_CH': 'NOTA_MINIMA_CH',\n",
    "    'NU_NOTA_CN': 'NOTA_MINIMA_CN',\n",
    "    'NU_NOTA_M': 'NOTA_MINIMA_M',\n",
    "    'NU_NOTA_R': 'NOTA_MINIMA_R',\n",
    "    'NU_NOTACORTE': 'NOTA_CORTE',\n",
    "    'NU_CLASSIFICACAO': 'CLASSIFICACAO',\n",
    "    'ST_APROVADO': 'APROVADO',\n",
    "    'ST_MATRICULA': 'MATRICULA'\n",
    "}"
   ],
   "metadata": {
    "collapsed": false,
    "ExecuteTime": {
     "end_time": "2024-02-29T03:20:02.767687500Z",
     "start_time": "2024-02-29T03:20:02.710704100Z"
    }
   },
   "id": "67c7ac6d90859554"
  },
  {
   "cell_type": "code",
   "execution_count": 50,
   "outputs": [
    {
     "data": {
      "text/plain": "        ANO  EDICAO  ETAPA    DS_ETAPA  CODIGO_IES  \\\n0      2021       1      4  1° CHAMADA         580   \n1      2021       1      4  1° CHAMADA         580   \n2      2021       1      4  1° CHAMADA         580   \n3      2021       1      4  1° CHAMADA         580   \n4      2021       1      4  1° CHAMADA         580   \n...     ...     ...    ...         ...         ...   \n55721  2021       1      4  1° CHAMADA         580   \n55722  2021       1      4  1° CHAMADA         580   \n55723  2021       1      4  1° CHAMADA         580   \n55724  2021       1      4  1° CHAMADA         580   \n55725  2021       1      4  1° CHAMADA         580   \n\n                                 NOME_IES SIGLA_IES UF_IES  CODIGO_CAMPUS  \\\n0      UNIVERSIDADE FEDERAL DE PERNAMBUCO      UFPE     PE           1153   \n1      UNIVERSIDADE FEDERAL DE PERNAMBUCO      UFPE     PE           1153   \n2      UNIVERSIDADE FEDERAL DE PERNAMBUCO      UFPE     PE           1153   \n3      UNIVERSIDADE FEDERAL DE PERNAMBUCO      UFPE     PE           1153   \n4      UNIVERSIDADE FEDERAL DE PERNAMBUCO      UFPE     PE           1153   \n...                                   ...       ...    ...            ...   \n55721  UNIVERSIDADE FEDERAL DE PERNAMBUCO      UFPE     PE           1153   \n55722  UNIVERSIDADE FEDERAL DE PERNAMBUCO      UFPE     PE           1153   \n55723  UNIVERSIDADE FEDERAL DE PERNAMBUCO      UFPE     PE           1153   \n55724  UNIVERSIDADE FEDERAL DE PERNAMBUCO      UFPE     PE           1153   \n55725  UNIVERSIDADE FEDERAL DE PERNAMBUCO      UFPE     PE           1153   \n\n                                 NOME_CAMPUS  ... NOTA_L_COM_PESO  \\\n0      Campus Universitário Cidade do Recife  ...           561,9   \n1      Campus Universitário Cidade do Recife  ...           574,5   \n2      Campus Universitário Cidade do Recife  ...           506,5   \n3      Campus Universitário Cidade do Recife  ...           589,1   \n4      Campus Universitário Cidade do Recife  ...           573,2   \n...                                      ...  ...             ...   \n55721  Campus Universitário Cidade do Recife  ...            1219   \n55722  Campus Universitário Cidade do Recife  ...          1228,6   \n55723  Campus Universitário Cidade do Recife  ...          1064,8   \n55724  Campus Universitário Cidade do Recife  ...          1067,8   \n55725  Campus Universitário Cidade do Recife  ...          1019,4   \n\n      NOTA_CH_COM_PESO  NOTA_CN_COM_PESO NOTA_M_COM_PESO NOTA_R_COM_PESO  \\\n0                414,8            837,75         2757,15            1640   \n1                744,5           1015,35         3584,25            1840   \n2                581,2             794,7         2928,15            1600   \n3                  694           1050,15         3506,85            1800   \n4                464,2             655,2          2636,1            1320   \n...                ...               ...             ...             ...   \n55721           1781,7            1136,2           410,9            1280   \n55722             1848            1001,2           627,1            1760   \n55723           1030,5            1149,2           357,1            1160   \n55724           1435,2             988,8           680,9            1760   \n55725           1646,1            1018,4           586,4             800   \n\n      NU_NOTA_CANDIDATO NOTA_CORTE CLASSIFICACAO  APROVADO  MATRICULA  \n0                621,16     597,28           NaN         N   PENDENTE  \n1                775,86     686,91           NaN         N   PENDENTE  \n2                641,06     641,06           2.0         S  EFETIVADA  \n3                764,01     686,91           NaN         N   PENDENTE  \n4                564,87     641,06          14.0         N   PENDENTE  \n...                 ...        ...           ...       ...        ...  \n55721            582,78     649,84           2.0         N   PENDENTE  \n55722            646,49     651,97           NaN         N   PENDENTE  \n55723            476,16     649,84          11.0         N   PENDENTE  \n55724            593,27     583,17           NaN         N   PENDENTE  \n55725            507,03     568,39          33.0         N   PENDENTE  \n\n[55726 rows x 53 columns]",
      "text/html": "<div>\n<style scoped>\n    .dataframe tbody tr th:only-of-type {\n        vertical-align: middle;\n    }\n\n    .dataframe tbody tr th {\n        vertical-align: top;\n    }\n\n    .dataframe thead th {\n        text-align: right;\n    }\n</style>\n<table border=\"1\" class=\"dataframe\">\n  <thead>\n    <tr style=\"text-align: right;\">\n      <th></th>\n      <th>ANO</th>\n      <th>EDICAO</th>\n      <th>ETAPA</th>\n      <th>DS_ETAPA</th>\n      <th>CODIGO_IES</th>\n      <th>NOME_IES</th>\n      <th>SIGLA_IES</th>\n      <th>UF_IES</th>\n      <th>CODIGO_CAMPUS</th>\n      <th>NOME_CAMPUS</th>\n      <th>...</th>\n      <th>NOTA_L_COM_PESO</th>\n      <th>NOTA_CH_COM_PESO</th>\n      <th>NOTA_CN_COM_PESO</th>\n      <th>NOTA_M_COM_PESO</th>\n      <th>NOTA_R_COM_PESO</th>\n      <th>NU_NOTA_CANDIDATO</th>\n      <th>NOTA_CORTE</th>\n      <th>CLASSIFICACAO</th>\n      <th>APROVADO</th>\n      <th>MATRICULA</th>\n    </tr>\n  </thead>\n  <tbody>\n    <tr>\n      <th>0</th>\n      <td>2021</td>\n      <td>1</td>\n      <td>4</td>\n      <td>1° CHAMADA</td>\n      <td>580</td>\n      <td>UNIVERSIDADE FEDERAL DE PERNAMBUCO</td>\n      <td>UFPE</td>\n      <td>PE</td>\n      <td>1153</td>\n      <td>Campus Universitário Cidade do Recife</td>\n      <td>...</td>\n      <td>561,9</td>\n      <td>414,8</td>\n      <td>837,75</td>\n      <td>2757,15</td>\n      <td>1640</td>\n      <td>621,16</td>\n      <td>597,28</td>\n      <td>NaN</td>\n      <td>N</td>\n      <td>PENDENTE</td>\n    </tr>\n    <tr>\n      <th>1</th>\n      <td>2021</td>\n      <td>1</td>\n      <td>4</td>\n      <td>1° CHAMADA</td>\n      <td>580</td>\n      <td>UNIVERSIDADE FEDERAL DE PERNAMBUCO</td>\n      <td>UFPE</td>\n      <td>PE</td>\n      <td>1153</td>\n      <td>Campus Universitário Cidade do Recife</td>\n      <td>...</td>\n      <td>574,5</td>\n      <td>744,5</td>\n      <td>1015,35</td>\n      <td>3584,25</td>\n      <td>1840</td>\n      <td>775,86</td>\n      <td>686,91</td>\n      <td>NaN</td>\n      <td>N</td>\n      <td>PENDENTE</td>\n    </tr>\n    <tr>\n      <th>2</th>\n      <td>2021</td>\n      <td>1</td>\n      <td>4</td>\n      <td>1° CHAMADA</td>\n      <td>580</td>\n      <td>UNIVERSIDADE FEDERAL DE PERNAMBUCO</td>\n      <td>UFPE</td>\n      <td>PE</td>\n      <td>1153</td>\n      <td>Campus Universitário Cidade do Recife</td>\n      <td>...</td>\n      <td>506,5</td>\n      <td>581,2</td>\n      <td>794,7</td>\n      <td>2928,15</td>\n      <td>1600</td>\n      <td>641,06</td>\n      <td>641,06</td>\n      <td>2.0</td>\n      <td>S</td>\n      <td>EFETIVADA</td>\n    </tr>\n    <tr>\n      <th>3</th>\n      <td>2021</td>\n      <td>1</td>\n      <td>4</td>\n      <td>1° CHAMADA</td>\n      <td>580</td>\n      <td>UNIVERSIDADE FEDERAL DE PERNAMBUCO</td>\n      <td>UFPE</td>\n      <td>PE</td>\n      <td>1153</td>\n      <td>Campus Universitário Cidade do Recife</td>\n      <td>...</td>\n      <td>589,1</td>\n      <td>694</td>\n      <td>1050,15</td>\n      <td>3506,85</td>\n      <td>1800</td>\n      <td>764,01</td>\n      <td>686,91</td>\n      <td>NaN</td>\n      <td>N</td>\n      <td>PENDENTE</td>\n    </tr>\n    <tr>\n      <th>4</th>\n      <td>2021</td>\n      <td>1</td>\n      <td>4</td>\n      <td>1° CHAMADA</td>\n      <td>580</td>\n      <td>UNIVERSIDADE FEDERAL DE PERNAMBUCO</td>\n      <td>UFPE</td>\n      <td>PE</td>\n      <td>1153</td>\n      <td>Campus Universitário Cidade do Recife</td>\n      <td>...</td>\n      <td>573,2</td>\n      <td>464,2</td>\n      <td>655,2</td>\n      <td>2636,1</td>\n      <td>1320</td>\n      <td>564,87</td>\n      <td>641,06</td>\n      <td>14.0</td>\n      <td>N</td>\n      <td>PENDENTE</td>\n    </tr>\n    <tr>\n      <th>...</th>\n      <td>...</td>\n      <td>...</td>\n      <td>...</td>\n      <td>...</td>\n      <td>...</td>\n      <td>...</td>\n      <td>...</td>\n      <td>...</td>\n      <td>...</td>\n      <td>...</td>\n      <td>...</td>\n      <td>...</td>\n      <td>...</td>\n      <td>...</td>\n      <td>...</td>\n      <td>...</td>\n      <td>...</td>\n      <td>...</td>\n      <td>...</td>\n      <td>...</td>\n      <td>...</td>\n    </tr>\n    <tr>\n      <th>55721</th>\n      <td>2021</td>\n      <td>1</td>\n      <td>4</td>\n      <td>1° CHAMADA</td>\n      <td>580</td>\n      <td>UNIVERSIDADE FEDERAL DE PERNAMBUCO</td>\n      <td>UFPE</td>\n      <td>PE</td>\n      <td>1153</td>\n      <td>Campus Universitário Cidade do Recife</td>\n      <td>...</td>\n      <td>1219</td>\n      <td>1781,7</td>\n      <td>1136,2</td>\n      <td>410,9</td>\n      <td>1280</td>\n      <td>582,78</td>\n      <td>649,84</td>\n      <td>2.0</td>\n      <td>N</td>\n      <td>PENDENTE</td>\n    </tr>\n    <tr>\n      <th>55722</th>\n      <td>2021</td>\n      <td>1</td>\n      <td>4</td>\n      <td>1° CHAMADA</td>\n      <td>580</td>\n      <td>UNIVERSIDADE FEDERAL DE PERNAMBUCO</td>\n      <td>UFPE</td>\n      <td>PE</td>\n      <td>1153</td>\n      <td>Campus Universitário Cidade do Recife</td>\n      <td>...</td>\n      <td>1228,6</td>\n      <td>1848</td>\n      <td>1001,2</td>\n      <td>627,1</td>\n      <td>1760</td>\n      <td>646,49</td>\n      <td>651,97</td>\n      <td>NaN</td>\n      <td>N</td>\n      <td>PENDENTE</td>\n    </tr>\n    <tr>\n      <th>55723</th>\n      <td>2021</td>\n      <td>1</td>\n      <td>4</td>\n      <td>1° CHAMADA</td>\n      <td>580</td>\n      <td>UNIVERSIDADE FEDERAL DE PERNAMBUCO</td>\n      <td>UFPE</td>\n      <td>PE</td>\n      <td>1153</td>\n      <td>Campus Universitário Cidade do Recife</td>\n      <td>...</td>\n      <td>1064,8</td>\n      <td>1030,5</td>\n      <td>1149,2</td>\n      <td>357,1</td>\n      <td>1160</td>\n      <td>476,16</td>\n      <td>649,84</td>\n      <td>11.0</td>\n      <td>N</td>\n      <td>PENDENTE</td>\n    </tr>\n    <tr>\n      <th>55724</th>\n      <td>2021</td>\n      <td>1</td>\n      <td>4</td>\n      <td>1° CHAMADA</td>\n      <td>580</td>\n      <td>UNIVERSIDADE FEDERAL DE PERNAMBUCO</td>\n      <td>UFPE</td>\n      <td>PE</td>\n      <td>1153</td>\n      <td>Campus Universitário Cidade do Recife</td>\n      <td>...</td>\n      <td>1067,8</td>\n      <td>1435,2</td>\n      <td>988,8</td>\n      <td>680,9</td>\n      <td>1760</td>\n      <td>593,27</td>\n      <td>583,17</td>\n      <td>NaN</td>\n      <td>N</td>\n      <td>PENDENTE</td>\n    </tr>\n    <tr>\n      <th>55725</th>\n      <td>2021</td>\n      <td>1</td>\n      <td>4</td>\n      <td>1° CHAMADA</td>\n      <td>580</td>\n      <td>UNIVERSIDADE FEDERAL DE PERNAMBUCO</td>\n      <td>UFPE</td>\n      <td>PE</td>\n      <td>1153</td>\n      <td>Campus Universitário Cidade do Recife</td>\n      <td>...</td>\n      <td>1019,4</td>\n      <td>1646,1</td>\n      <td>1018,4</td>\n      <td>586,4</td>\n      <td>800</td>\n      <td>507,03</td>\n      <td>568,39</td>\n      <td>33.0</td>\n      <td>N</td>\n      <td>PENDENTE</td>\n    </tr>\n  </tbody>\n</table>\n<p>55726 rows × 53 columns</p>\n</div>"
     },
     "execution_count": 50,
     "metadata": {},
     "output_type": "execute_result"
    }
   ],
   "source": [
    "df_2.rename(columns=renaming_columns, inplace=True)\n",
    "df_2"
   ],
   "metadata": {
    "collapsed": false,
    "ExecuteTime": {
     "end_time": "2024-02-29T03:20:02.768685300Z",
     "start_time": "2024-02-29T03:20:02.716624800Z"
    }
   },
   "id": "3b0212bbdbae493f"
  },
  {
   "cell_type": "code",
   "execution_count": 51,
   "outputs": [
    {
     "data": {
      "text/plain": "        ANO  EDICAO  ETAPA    DS_ETAPA  CODIGO_IES  \\\n0      2020       1      4  1° CHAMADA         580   \n1      2020       1      4  1° CHAMADA         580   \n2      2020       1      4  1° CHAMADA         580   \n3      2020       1      4  1° CHAMADA         580   \n4      2020       1      4  1° CHAMADA         580   \n...     ...     ...    ...         ...         ...   \n75825  2020       1      4  1° CHAMADA         580   \n75826  2020       1      4  1° CHAMADA         580   \n75827  2020       1      4  1° CHAMADA         580   \n75828  2020       1      4  1° CHAMADA         580   \n75829  2020       1      4  1° CHAMADA         580   \n\n                                 NOME_IES SIGLA_IES UF_IES  CODIGO_CAMPUS  \\\n0      UNIVERSIDADE FEDERAL DE PERNAMBUCO      UFPE     PE           1153   \n1      UNIVERSIDADE FEDERAL DE PERNAMBUCO      UFPE     PE           1153   \n2      UNIVERSIDADE FEDERAL DE PERNAMBUCO      UFPE     PE           1153   \n3      UNIVERSIDADE FEDERAL DE PERNAMBUCO      UFPE     PE           1153   \n4      UNIVERSIDADE FEDERAL DE PERNAMBUCO      UFPE     PE           1153   \n...                                   ...       ...    ...            ...   \n75825  UNIVERSIDADE FEDERAL DE PERNAMBUCO      UFPE     PE           1153   \n75826  UNIVERSIDADE FEDERAL DE PERNAMBUCO      UFPE     PE           1153   \n75827  UNIVERSIDADE FEDERAL DE PERNAMBUCO      UFPE     PE           1153   \n75828  UNIVERSIDADE FEDERAL DE PERNAMBUCO      UFPE     PE           1153   \n75829  UNIVERSIDADE FEDERAL DE PERNAMBUCO      UFPE     PE           1153   \n\n                                 NOME_CAMPUS  ... NOTA_L_COM_PESO  \\\n0      Campus Universitário Cidade do Recife  ...          1495,2   \n1      Campus Universitário Cidade do Recife  ...          1862,1   \n2      Campus Universitário Cidade do Recife  ...          1686,9   \n3      Campus Universitário Cidade do Recife  ...          1963,2   \n4      Campus Universitário Cidade do Recife  ...          1623,6   \n...                                      ...  ...             ...   \n75825  Campus Universitário Cidade do Recife  ...          1559,1   \n75826  Campus Universitário Cidade do Recife  ...            1683   \n75827  Campus Universitário Cidade do Recife  ...            1596   \n75828  Campus Universitário Cidade do Recife  ...          1673,7   \n75829  Campus Universitário Cidade do Recife  ...          1578,9   \n\n      NOTA_CH_COM_PESO  NOTA_CN_COM_PESO NOTA_M_COM_PESO NOTA_R_COM_PESO  \\\n0               1142,5             431,8           421,5            1250   \n1                 1479             606,1           722,3            2200   \n2              1299,75             452,3           429,1            1700   \n3              1372,25             391,4           466,2            1500   \n4               1143,5             462,3           408,1            1250   \n...                ...               ...             ...             ...   \n75825          1338,75             473,5           422,1            1350   \n75826          1241,25             381,8           514,2            1400   \n75827          1388,75             406,4           447,2            2200   \n75828           1321,5             480,6           531,8            1550   \n75829          1030,25             366,9           361,9            1300   \n\n      NU_NOTA_CANDIDATO NOTA_CORTE CLASSIFICACAO  APROVADO  MATRICULA  \n0                 474,1     682,14          55.0         N   PENDENTE  \n1                686,95     682,14           1.0         S  EFETIVADA  \n2                556,81     655,14         137.0         N   PENDENTE  \n3                569,31     655,14         112.0         N   PENDENTE  \n4                488,75     664,43          49.0         N   PENDENTE  \n...                 ...        ...           ...       ...        ...  \n75825            514,35      645,7          99.0         N   PENDENTE  \n75826            522,03     655,14         193.0         N   PENDENTE  \n75827            603,84      645,7          17.0         N   PENDENTE  \n75828            555,76     682,14          31.0         N   PENDENTE  \n75829             463,8     655,14         237.0         N   PENDENTE  \n\n[75830 rows x 53 columns]",
      "text/html": "<div>\n<style scoped>\n    .dataframe tbody tr th:only-of-type {\n        vertical-align: middle;\n    }\n\n    .dataframe tbody tr th {\n        vertical-align: top;\n    }\n\n    .dataframe thead th {\n        text-align: right;\n    }\n</style>\n<table border=\"1\" class=\"dataframe\">\n  <thead>\n    <tr style=\"text-align: right;\">\n      <th></th>\n      <th>ANO</th>\n      <th>EDICAO</th>\n      <th>ETAPA</th>\n      <th>DS_ETAPA</th>\n      <th>CODIGO_IES</th>\n      <th>NOME_IES</th>\n      <th>SIGLA_IES</th>\n      <th>UF_IES</th>\n      <th>CODIGO_CAMPUS</th>\n      <th>NOME_CAMPUS</th>\n      <th>...</th>\n      <th>NOTA_L_COM_PESO</th>\n      <th>NOTA_CH_COM_PESO</th>\n      <th>NOTA_CN_COM_PESO</th>\n      <th>NOTA_M_COM_PESO</th>\n      <th>NOTA_R_COM_PESO</th>\n      <th>NU_NOTA_CANDIDATO</th>\n      <th>NOTA_CORTE</th>\n      <th>CLASSIFICACAO</th>\n      <th>APROVADO</th>\n      <th>MATRICULA</th>\n    </tr>\n  </thead>\n  <tbody>\n    <tr>\n      <th>0</th>\n      <td>2020</td>\n      <td>1</td>\n      <td>4</td>\n      <td>1° CHAMADA</td>\n      <td>580</td>\n      <td>UNIVERSIDADE FEDERAL DE PERNAMBUCO</td>\n      <td>UFPE</td>\n      <td>PE</td>\n      <td>1153</td>\n      <td>Campus Universitário Cidade do Recife</td>\n      <td>...</td>\n      <td>1495,2</td>\n      <td>1142,5</td>\n      <td>431,8</td>\n      <td>421,5</td>\n      <td>1250</td>\n      <td>474,1</td>\n      <td>682,14</td>\n      <td>55.0</td>\n      <td>N</td>\n      <td>PENDENTE</td>\n    </tr>\n    <tr>\n      <th>1</th>\n      <td>2020</td>\n      <td>1</td>\n      <td>4</td>\n      <td>1° CHAMADA</td>\n      <td>580</td>\n      <td>UNIVERSIDADE FEDERAL DE PERNAMBUCO</td>\n      <td>UFPE</td>\n      <td>PE</td>\n      <td>1153</td>\n      <td>Campus Universitário Cidade do Recife</td>\n      <td>...</td>\n      <td>1862,1</td>\n      <td>1479</td>\n      <td>606,1</td>\n      <td>722,3</td>\n      <td>2200</td>\n      <td>686,95</td>\n      <td>682,14</td>\n      <td>1.0</td>\n      <td>S</td>\n      <td>EFETIVADA</td>\n    </tr>\n    <tr>\n      <th>2</th>\n      <td>2020</td>\n      <td>1</td>\n      <td>4</td>\n      <td>1° CHAMADA</td>\n      <td>580</td>\n      <td>UNIVERSIDADE FEDERAL DE PERNAMBUCO</td>\n      <td>UFPE</td>\n      <td>PE</td>\n      <td>1153</td>\n      <td>Campus Universitário Cidade do Recife</td>\n      <td>...</td>\n      <td>1686,9</td>\n      <td>1299,75</td>\n      <td>452,3</td>\n      <td>429,1</td>\n      <td>1700</td>\n      <td>556,81</td>\n      <td>655,14</td>\n      <td>137.0</td>\n      <td>N</td>\n      <td>PENDENTE</td>\n    </tr>\n    <tr>\n      <th>3</th>\n      <td>2020</td>\n      <td>1</td>\n      <td>4</td>\n      <td>1° CHAMADA</td>\n      <td>580</td>\n      <td>UNIVERSIDADE FEDERAL DE PERNAMBUCO</td>\n      <td>UFPE</td>\n      <td>PE</td>\n      <td>1153</td>\n      <td>Campus Universitário Cidade do Recife</td>\n      <td>...</td>\n      <td>1963,2</td>\n      <td>1372,25</td>\n      <td>391,4</td>\n      <td>466,2</td>\n      <td>1500</td>\n      <td>569,31</td>\n      <td>655,14</td>\n      <td>112.0</td>\n      <td>N</td>\n      <td>PENDENTE</td>\n    </tr>\n    <tr>\n      <th>4</th>\n      <td>2020</td>\n      <td>1</td>\n      <td>4</td>\n      <td>1° CHAMADA</td>\n      <td>580</td>\n      <td>UNIVERSIDADE FEDERAL DE PERNAMBUCO</td>\n      <td>UFPE</td>\n      <td>PE</td>\n      <td>1153</td>\n      <td>Campus Universitário Cidade do Recife</td>\n      <td>...</td>\n      <td>1623,6</td>\n      <td>1143,5</td>\n      <td>462,3</td>\n      <td>408,1</td>\n      <td>1250</td>\n      <td>488,75</td>\n      <td>664,43</td>\n      <td>49.0</td>\n      <td>N</td>\n      <td>PENDENTE</td>\n    </tr>\n    <tr>\n      <th>...</th>\n      <td>...</td>\n      <td>...</td>\n      <td>...</td>\n      <td>...</td>\n      <td>...</td>\n      <td>...</td>\n      <td>...</td>\n      <td>...</td>\n      <td>...</td>\n      <td>...</td>\n      <td>...</td>\n      <td>...</td>\n      <td>...</td>\n      <td>...</td>\n      <td>...</td>\n      <td>...</td>\n      <td>...</td>\n      <td>...</td>\n      <td>...</td>\n      <td>...</td>\n      <td>...</td>\n    </tr>\n    <tr>\n      <th>75825</th>\n      <td>2020</td>\n      <td>1</td>\n      <td>4</td>\n      <td>1° CHAMADA</td>\n      <td>580</td>\n      <td>UNIVERSIDADE FEDERAL DE PERNAMBUCO</td>\n      <td>UFPE</td>\n      <td>PE</td>\n      <td>1153</td>\n      <td>Campus Universitário Cidade do Recife</td>\n      <td>...</td>\n      <td>1559,1</td>\n      <td>1338,75</td>\n      <td>473,5</td>\n      <td>422,1</td>\n      <td>1350</td>\n      <td>514,35</td>\n      <td>645,7</td>\n      <td>99.0</td>\n      <td>N</td>\n      <td>PENDENTE</td>\n    </tr>\n    <tr>\n      <th>75826</th>\n      <td>2020</td>\n      <td>1</td>\n      <td>4</td>\n      <td>1° CHAMADA</td>\n      <td>580</td>\n      <td>UNIVERSIDADE FEDERAL DE PERNAMBUCO</td>\n      <td>UFPE</td>\n      <td>PE</td>\n      <td>1153</td>\n      <td>Campus Universitário Cidade do Recife</td>\n      <td>...</td>\n      <td>1683</td>\n      <td>1241,25</td>\n      <td>381,8</td>\n      <td>514,2</td>\n      <td>1400</td>\n      <td>522,03</td>\n      <td>655,14</td>\n      <td>193.0</td>\n      <td>N</td>\n      <td>PENDENTE</td>\n    </tr>\n    <tr>\n      <th>75827</th>\n      <td>2020</td>\n      <td>1</td>\n      <td>4</td>\n      <td>1° CHAMADA</td>\n      <td>580</td>\n      <td>UNIVERSIDADE FEDERAL DE PERNAMBUCO</td>\n      <td>UFPE</td>\n      <td>PE</td>\n      <td>1153</td>\n      <td>Campus Universitário Cidade do Recife</td>\n      <td>...</td>\n      <td>1596</td>\n      <td>1388,75</td>\n      <td>406,4</td>\n      <td>447,2</td>\n      <td>2200</td>\n      <td>603,84</td>\n      <td>645,7</td>\n      <td>17.0</td>\n      <td>N</td>\n      <td>PENDENTE</td>\n    </tr>\n    <tr>\n      <th>75828</th>\n      <td>2020</td>\n      <td>1</td>\n      <td>4</td>\n      <td>1° CHAMADA</td>\n      <td>580</td>\n      <td>UNIVERSIDADE FEDERAL DE PERNAMBUCO</td>\n      <td>UFPE</td>\n      <td>PE</td>\n      <td>1153</td>\n      <td>Campus Universitário Cidade do Recife</td>\n      <td>...</td>\n      <td>1673,7</td>\n      <td>1321,5</td>\n      <td>480,6</td>\n      <td>531,8</td>\n      <td>1550</td>\n      <td>555,76</td>\n      <td>682,14</td>\n      <td>31.0</td>\n      <td>N</td>\n      <td>PENDENTE</td>\n    </tr>\n    <tr>\n      <th>75829</th>\n      <td>2020</td>\n      <td>1</td>\n      <td>4</td>\n      <td>1° CHAMADA</td>\n      <td>580</td>\n      <td>UNIVERSIDADE FEDERAL DE PERNAMBUCO</td>\n      <td>UFPE</td>\n      <td>PE</td>\n      <td>1153</td>\n      <td>Campus Universitário Cidade do Recife</td>\n      <td>...</td>\n      <td>1578,9</td>\n      <td>1030,25</td>\n      <td>366,9</td>\n      <td>361,9</td>\n      <td>1300</td>\n      <td>463,8</td>\n      <td>655,14</td>\n      <td>237.0</td>\n      <td>N</td>\n      <td>PENDENTE</td>\n    </tr>\n  </tbody>\n</table>\n<p>75830 rows × 53 columns</p>\n</div>"
     },
     "execution_count": 51,
     "metadata": {},
     "output_type": "execute_result"
    }
   ],
   "source": [
    "df_3.rename(columns=renaming_columns, inplace=True)\n",
    "df_3"
   ],
   "metadata": {
    "collapsed": false,
    "ExecuteTime": {
     "end_time": "2024-02-29T03:20:02.879406200Z",
     "start_time": "2024-02-29T03:20:02.756443500Z"
    }
   },
   "id": "6442294b8db3a70c"
  },
  {
   "cell_type": "code",
   "execution_count": 52,
   "outputs": [
    {
     "data": {
      "text/plain": "        ANO  EDICAO  ETAPA    DS_ETAPA  CODIGO_IES  \\\n0      2019       1      4  1° CHAMADA         580   \n1      2019       1      4  1° CHAMADA         580   \n2      2019       1      4  1° CHAMADA         580   \n3      2019       1      4  1° CHAMADA         580   \n4      2019       1      4  1° CHAMADA         580   \n...     ...     ...    ...         ...         ...   \n79859  2019       1      4  1° CHAMADA         580   \n79860  2019       1      4  1° CHAMADA         580   \n79861  2019       1      4  1° CHAMADA         580   \n79862  2019       1      4  1° CHAMADA         580   \n79863  2019       1      4  1° CHAMADA         580   \n\n                                 NOME_IES SIGLA_IES UF_IES  CODIGO_CAMPUS  \\\n0      UNIVERSIDADE FEDERAL DE PERNAMBUCO      UFPE     PE           1153   \n1      UNIVERSIDADE FEDERAL DE PERNAMBUCO      UFPE     PE           1153   \n2      UNIVERSIDADE FEDERAL DE PERNAMBUCO      UFPE     PE           1153   \n3      UNIVERSIDADE FEDERAL DE PERNAMBUCO      UFPE     PE           1153   \n4      UNIVERSIDADE FEDERAL DE PERNAMBUCO      UFPE     PE           1153   \n...                                   ...       ...    ...            ...   \n79859  UNIVERSIDADE FEDERAL DE PERNAMBUCO      UFPE     PE           1153   \n79860  UNIVERSIDADE FEDERAL DE PERNAMBUCO      UFPE     PE           1153   \n79861  UNIVERSIDADE FEDERAL DE PERNAMBUCO      UFPE     PE           1153   \n79862  UNIVERSIDADE FEDERAL DE PERNAMBUCO      UFPE     PE           1153   \n79863  UNIVERSIDADE FEDERAL DE PERNAMBUCO      UFPE     PE           1153   \n\n                                 NOME_CAMPUS  ... NOTA_L_COM_PESO  \\\n0      Campus Universitário Cidade do Recife  ...          1493,4   \n1      Campus Universitário Cidade do Recife  ...          1814,4   \n2      Campus Universitário Cidade do Recife  ...           604,8   \n3      Campus Universitário Cidade do Recife  ...          1814,7   \n4      Campus Universitário Cidade do Recife  ...           660,5   \n...                                      ...  ...             ...   \n79859  Campus Universitário Cidade do Recife  ...          1203,4   \n79860  Campus Universitário Cidade do Recife  ...          1088,4   \n79861  Campus Universitário Cidade do Recife  ...         1141,25   \n79862  Campus Universitário Cidade do Recife  ...          1189,8   \n79863  Campus Universitário Cidade do Recife  ...         1137,75   \n\n      NOTA_CH_COM_PESO  NOTA_CN_COM_PESO NOTA_M_COM_PESO NOTA_R_COM_PESO  \\\n0               1920,3             481,9          1156,4             500   \n1               1315,2             473,7           666,9            1800   \n2                657,6             473,7          2667,6            1800   \n3               1333,8             580,3           572,1            2340   \n4                674,1             637,3          2812,8            2280   \n...                ...               ...             ...             ...   \n79859           1921,2             508,7           549,8            1920   \n79860             1235             567,6         1183,25            1700   \n79861          1266,25             593,4          702,75            1040   \n79862           643,95           1343,75          774,15            1450   \n79863          1212,75             623,7          596,85             720   \n\n      NU_NOTA_CANDIDATO NOTA_CORTE CLASSIFICACAO  APROVADO       MATRICULA  \n0                 555,2     627,41          63.0         N        PENDENTE  \n1                607,02     691,64          20.0         N        PENDENTE  \n2                620,37     727,79          22.0         N        PENDENTE  \n3                664,09     662,32           7.0         S  NÃO COMPARECEU  \n4                706,47     750,86          75.0         N        PENDENTE  \n...                 ...        ...           ...       ...             ...  \n79859            610,31     693,84         100.0         N        PENDENTE  \n79860            577,43      695,8         419.0         N        PENDENTE  \n79861            474,37     615,61         216.0         N        PENDENTE  \n79862            540,17     620,36         178.0         N        PENDENTE  \n79863            429,11     610,46         297.0         N        PENDENTE  \n\n[79864 rows x 53 columns]",
      "text/html": "<div>\n<style scoped>\n    .dataframe tbody tr th:only-of-type {\n        vertical-align: middle;\n    }\n\n    .dataframe tbody tr th {\n        vertical-align: top;\n    }\n\n    .dataframe thead th {\n        text-align: right;\n    }\n</style>\n<table border=\"1\" class=\"dataframe\">\n  <thead>\n    <tr style=\"text-align: right;\">\n      <th></th>\n      <th>ANO</th>\n      <th>EDICAO</th>\n      <th>ETAPA</th>\n      <th>DS_ETAPA</th>\n      <th>CODIGO_IES</th>\n      <th>NOME_IES</th>\n      <th>SIGLA_IES</th>\n      <th>UF_IES</th>\n      <th>CODIGO_CAMPUS</th>\n      <th>NOME_CAMPUS</th>\n      <th>...</th>\n      <th>NOTA_L_COM_PESO</th>\n      <th>NOTA_CH_COM_PESO</th>\n      <th>NOTA_CN_COM_PESO</th>\n      <th>NOTA_M_COM_PESO</th>\n      <th>NOTA_R_COM_PESO</th>\n      <th>NU_NOTA_CANDIDATO</th>\n      <th>NOTA_CORTE</th>\n      <th>CLASSIFICACAO</th>\n      <th>APROVADO</th>\n      <th>MATRICULA</th>\n    </tr>\n  </thead>\n  <tbody>\n    <tr>\n      <th>0</th>\n      <td>2019</td>\n      <td>1</td>\n      <td>4</td>\n      <td>1° CHAMADA</td>\n      <td>580</td>\n      <td>UNIVERSIDADE FEDERAL DE PERNAMBUCO</td>\n      <td>UFPE</td>\n      <td>PE</td>\n      <td>1153</td>\n      <td>Campus Universitário Cidade do Recife</td>\n      <td>...</td>\n      <td>1493,4</td>\n      <td>1920,3</td>\n      <td>481,9</td>\n      <td>1156,4</td>\n      <td>500</td>\n      <td>555,2</td>\n      <td>627,41</td>\n      <td>63.0</td>\n      <td>N</td>\n      <td>PENDENTE</td>\n    </tr>\n    <tr>\n      <th>1</th>\n      <td>2019</td>\n      <td>1</td>\n      <td>4</td>\n      <td>1° CHAMADA</td>\n      <td>580</td>\n      <td>UNIVERSIDADE FEDERAL DE PERNAMBUCO</td>\n      <td>UFPE</td>\n      <td>PE</td>\n      <td>1153</td>\n      <td>Campus Universitário Cidade do Recife</td>\n      <td>...</td>\n      <td>1814,4</td>\n      <td>1315,2</td>\n      <td>473,7</td>\n      <td>666,9</td>\n      <td>1800</td>\n      <td>607,02</td>\n      <td>691,64</td>\n      <td>20.0</td>\n      <td>N</td>\n      <td>PENDENTE</td>\n    </tr>\n    <tr>\n      <th>2</th>\n      <td>2019</td>\n      <td>1</td>\n      <td>4</td>\n      <td>1° CHAMADA</td>\n      <td>580</td>\n      <td>UNIVERSIDADE FEDERAL DE PERNAMBUCO</td>\n      <td>UFPE</td>\n      <td>PE</td>\n      <td>1153</td>\n      <td>Campus Universitário Cidade do Recife</td>\n      <td>...</td>\n      <td>604,8</td>\n      <td>657,6</td>\n      <td>473,7</td>\n      <td>2667,6</td>\n      <td>1800</td>\n      <td>620,37</td>\n      <td>727,79</td>\n      <td>22.0</td>\n      <td>N</td>\n      <td>PENDENTE</td>\n    </tr>\n    <tr>\n      <th>3</th>\n      <td>2019</td>\n      <td>1</td>\n      <td>4</td>\n      <td>1° CHAMADA</td>\n      <td>580</td>\n      <td>UNIVERSIDADE FEDERAL DE PERNAMBUCO</td>\n      <td>UFPE</td>\n      <td>PE</td>\n      <td>1153</td>\n      <td>Campus Universitário Cidade do Recife</td>\n      <td>...</td>\n      <td>1814,7</td>\n      <td>1333,8</td>\n      <td>580,3</td>\n      <td>572,1</td>\n      <td>2340</td>\n      <td>664,09</td>\n      <td>662,32</td>\n      <td>7.0</td>\n      <td>S</td>\n      <td>NÃO COMPARECEU</td>\n    </tr>\n    <tr>\n      <th>4</th>\n      <td>2019</td>\n      <td>1</td>\n      <td>4</td>\n      <td>1° CHAMADA</td>\n      <td>580</td>\n      <td>UNIVERSIDADE FEDERAL DE PERNAMBUCO</td>\n      <td>UFPE</td>\n      <td>PE</td>\n      <td>1153</td>\n      <td>Campus Universitário Cidade do Recife</td>\n      <td>...</td>\n      <td>660,5</td>\n      <td>674,1</td>\n      <td>637,3</td>\n      <td>2812,8</td>\n      <td>2280</td>\n      <td>706,47</td>\n      <td>750,86</td>\n      <td>75.0</td>\n      <td>N</td>\n      <td>PENDENTE</td>\n    </tr>\n    <tr>\n      <th>...</th>\n      <td>...</td>\n      <td>...</td>\n      <td>...</td>\n      <td>...</td>\n      <td>...</td>\n      <td>...</td>\n      <td>...</td>\n      <td>...</td>\n      <td>...</td>\n      <td>...</td>\n      <td>...</td>\n      <td>...</td>\n      <td>...</td>\n      <td>...</td>\n      <td>...</td>\n      <td>...</td>\n      <td>...</td>\n      <td>...</td>\n      <td>...</td>\n      <td>...</td>\n      <td>...</td>\n    </tr>\n    <tr>\n      <th>79859</th>\n      <td>2019</td>\n      <td>1</td>\n      <td>4</td>\n      <td>1° CHAMADA</td>\n      <td>580</td>\n      <td>UNIVERSIDADE FEDERAL DE PERNAMBUCO</td>\n      <td>UFPE</td>\n      <td>PE</td>\n      <td>1153</td>\n      <td>Campus Universitário Cidade do Recife</td>\n      <td>...</td>\n      <td>1203,4</td>\n      <td>1921,2</td>\n      <td>508,7</td>\n      <td>549,8</td>\n      <td>1920</td>\n      <td>610,31</td>\n      <td>693,84</td>\n      <td>100.0</td>\n      <td>N</td>\n      <td>PENDENTE</td>\n    </tr>\n    <tr>\n      <th>79860</th>\n      <td>2019</td>\n      <td>1</td>\n      <td>4</td>\n      <td>1° CHAMADA</td>\n      <td>580</td>\n      <td>UNIVERSIDADE FEDERAL DE PERNAMBUCO</td>\n      <td>UFPE</td>\n      <td>PE</td>\n      <td>1153</td>\n      <td>Campus Universitário Cidade do Recife</td>\n      <td>...</td>\n      <td>1088,4</td>\n      <td>1235</td>\n      <td>567,6</td>\n      <td>1183,25</td>\n      <td>1700</td>\n      <td>577,43</td>\n      <td>695,8</td>\n      <td>419.0</td>\n      <td>N</td>\n      <td>PENDENTE</td>\n    </tr>\n    <tr>\n      <th>79861</th>\n      <td>2019</td>\n      <td>1</td>\n      <td>4</td>\n      <td>1° CHAMADA</td>\n      <td>580</td>\n      <td>UNIVERSIDADE FEDERAL DE PERNAMBUCO</td>\n      <td>UFPE</td>\n      <td>PE</td>\n      <td>1153</td>\n      <td>Campus Universitário Cidade do Recife</td>\n      <td>...</td>\n      <td>1141,25</td>\n      <td>1266,25</td>\n      <td>593,4</td>\n      <td>702,75</td>\n      <td>1040</td>\n      <td>474,37</td>\n      <td>615,61</td>\n      <td>216.0</td>\n      <td>N</td>\n      <td>PENDENTE</td>\n    </tr>\n    <tr>\n      <th>79862</th>\n      <td>2019</td>\n      <td>1</td>\n      <td>4</td>\n      <td>1° CHAMADA</td>\n      <td>580</td>\n      <td>UNIVERSIDADE FEDERAL DE PERNAMBUCO</td>\n      <td>UFPE</td>\n      <td>PE</td>\n      <td>1153</td>\n      <td>Campus Universitário Cidade do Recife</td>\n      <td>...</td>\n      <td>1189,8</td>\n      <td>643,95</td>\n      <td>1343,75</td>\n      <td>774,15</td>\n      <td>1450</td>\n      <td>540,17</td>\n      <td>620,36</td>\n      <td>178.0</td>\n      <td>N</td>\n      <td>PENDENTE</td>\n    </tr>\n    <tr>\n      <th>79863</th>\n      <td>2019</td>\n      <td>1</td>\n      <td>4</td>\n      <td>1° CHAMADA</td>\n      <td>580</td>\n      <td>UNIVERSIDADE FEDERAL DE PERNAMBUCO</td>\n      <td>UFPE</td>\n      <td>PE</td>\n      <td>1153</td>\n      <td>Campus Universitário Cidade do Recife</td>\n      <td>...</td>\n      <td>1137,75</td>\n      <td>1212,75</td>\n      <td>623,7</td>\n      <td>596,85</td>\n      <td>720</td>\n      <td>429,11</td>\n      <td>610,46</td>\n      <td>297.0</td>\n      <td>N</td>\n      <td>PENDENTE</td>\n    </tr>\n  </tbody>\n</table>\n<p>79864 rows × 53 columns</p>\n</div>"
     },
     "execution_count": 52,
     "metadata": {},
     "output_type": "execute_result"
    }
   ],
   "source": [
    "df_4.rename(columns=renaming_columns, inplace=True)\n",
    "df_4"
   ],
   "metadata": {
    "collapsed": false,
    "ExecuteTime": {
     "end_time": "2024-02-29T03:20:02.894604700Z",
     "start_time": "2024-02-29T03:20:02.807960Z"
    }
   },
   "id": "4fe047137e5d344a"
  },
  {
   "cell_type": "code",
   "execution_count": 53,
   "outputs": [],
   "source": [
    "# Todas as tabelas padronizadas \n",
    "# df_1.to_csv()\n",
    "# df_2.to_csv()\n",
    "# df_3.to_csv()\n",
    "# df_4.to_csv()"
   ],
   "metadata": {
    "collapsed": false,
    "ExecuteTime": {
     "end_time": "2024-02-29T03:20:02.894604700Z",
     "start_time": "2024-02-29T03:20:02.852596Z"
    }
   },
   "id": "4508e705dca52bbf"
  }
 ],
 "metadata": {
  "kernelspec": {
   "display_name": "Python 3",
   "language": "python",
   "name": "python3"
  },
  "language_info": {
   "codemirror_mode": {
    "name": "ipython",
    "version": 2
   },
   "file_extension": ".py",
   "mimetype": "text/x-python",
   "name": "python",
   "nbconvert_exporter": "python",
   "pygments_lexer": "ipython2",
   "version": "2.7.6"
  }
 },
 "nbformat": 4,
 "nbformat_minor": 5
}
