{
 "cells": [
  {
   "cell_type": "code",
   "execution_count": 17,
   "id": "initial_id",
   "metadata": {
    "collapsed": true,
    "ExecuteTime": {
     "end_time": "2024-02-28T19:24:57.430862740Z",
     "start_time": "2024-02-28T19:24:43.784477316Z"
    }
   },
   "outputs": [
    {
     "name": "stderr",
     "output_type": "stream",
     "text": [
      "/tmp/ipykernel_8327/1040869926.py:7: DtypeWarning: Columns (17,22,23,24,25,26,27,28,29,30,31,32) have mixed types. Specify dtype option on import or set low_memory=False.\n",
      "  df = pd.read_csv(f'../../sisu_data/{year}/{file_title}.csv', encoding='ISO-8859-1', on_bad_lines='skip', sep=\"|\")\n"
     ]
    },
    {
     "data": {
      "text/plain": "         ANO  EDICAO  ETAPA         DS_ETAPA  CODIGO_IES  \\\n0       2022       2      4  CHAMADA REGULAR         593   \n1       2022       2      4  CHAMADA REGULAR         593   \n2       2022       2      4  CHAMADA REGULAR         593   \n3       2022       2      4  CHAMADA REGULAR         593   \n4       2022       2      4  CHAMADA REGULAR         593   \n...      ...     ...    ...              ...         ...   \n674800  2022       2      4  CHAMADA REGULAR         588   \n674801  2022       2      4  CHAMADA REGULAR         588   \n674802  2022       2      4  CHAMADA REGULAR         588   \n674803  2022       2      4  CHAMADA REGULAR         588   \n674804  2022       2      4  CHAMADA REGULAR         588   \n\n                                                 NOME_IES SIGLA_IES UF_IES  \\\n0       CENTRO FEDERAL DE EDUCAÇÃO TECNOLÓGICA CELSO S...  CEFET/RJ     RJ   \n1       CENTRO FEDERAL DE EDUCAÇÃO TECNOLÓGICA CELSO S...  CEFET/RJ     RJ   \n2       CENTRO FEDERAL DE EDUCAÇÃO TECNOLÓGICA CELSO S...  CEFET/RJ     RJ   \n3       CENTRO FEDERAL DE EDUCAÇÃO TECNOLÓGICA CELSO S...  CEFET/RJ     RJ   \n4       CENTRO FEDERAL DE EDUCAÇÃO TECNOLÓGICA CELSO S...  CEFET/RJ     RJ   \n...                                                   ...       ...    ...   \n674800         UNIVERSIDADE TECNOLÓGICA FEDERAL DO PARANÁ     UTFPR     PR   \n674801         UNIVERSIDADE TECNOLÓGICA FEDERAL DO PARANÁ     UTFPR     PR   \n674802         UNIVERSIDADE TECNOLÓGICA FEDERAL DO PARANÁ     UTFPR     PR   \n674803         UNIVERSIDADE TECNOLÓGICA FEDERAL DO PARANÁ     UTFPR     PR   \n674804         UNIVERSIDADE TECNOLÓGICA FEDERAL DO PARANÁ     UTFPR     PR   \n\n        CODIGO_CAMPUS                NOME_CAMPUS  ... NOTA_L_COM_PESO  \\\n0                1663  CEFET-RJ - MARIA DA GRAÇA  ...           516,4   \n1                1663  CEFET-RJ - MARIA DA GRAÇA  ...           550,8   \n2                1663  CEFET-RJ - MARIA DA GRAÇA  ...           567,9   \n3                1663  CEFET-RJ - MARIA DA GRAÇA  ...           588,2   \n4                1663  CEFET-RJ - MARIA DA GRAÇA  ...           607,6   \n...               ...                        ...  ...             ...   \n674800        1030843              CÂMPUS TOLEDO  ...           477,5   \n674801        1030843              CÂMPUS TOLEDO  ...           541,6   \n674802        1030843              CÂMPUS TOLEDO  ...           362,4   \n674803        1030843              CÂMPUS TOLEDO  ...           558,3   \n674804        1030843              CÂMPUS TOLEDO  ...           572,3   \n\n       NOTA_CH_COM_PESO  NOTA_CN_COM_PESO NOTA_M_COM_PESO NOTA_R_COM_PESO  \\\n0                 576,4               985          2970,4            2280   \n1                   619              1152          1887,6            1440   \n2                 623,7            1108,6          2767,2            1740   \n3                 597,7            1041,4          1902,4            2580   \n4                   608            1011,2          2406,4            2520   \n...                 ...               ...             ...             ...   \n674800            516,3            1142,2            1924             400   \n674801              528            1061,2          2670,8             800   \n674802            470,9               792          1981,2             680   \n674803            562,4             919,2          2418,8             520   \n674804            643,4            1158,4          2491,6             680   \n\n       NOTA_CANDIDATO NOTA_CORTE CLASSIFICACAO APROVADO       MATRICULA  \n0               666,2     684,31           NaN        N        PENDENTE  \n1              513,58     684,31          90.0        N        PENDENTE  \n2              618,85     684,31          68.0        N        PENDENTE  \n3              609,97     684,31          72.0        N        PENDENTE  \n4              650,29     684,31          47.0        N        PENDENTE  \n...               ...        ...           ...      ...             ...  \n674800         495,56     553,19          10.0        N        PENDENTE  \n674801          622,4     553,19           3.0        S  NÃO COMPARECEU  \n674802         476,28     553,19          11.0        N        PENDENTE  \n674803         553,19     553,19           6.0        S  NÃO COMPARECEU  \n674804         616,19     553,19           4.0        S       EFETIVADA  \n\n[674805 rows x 56 columns]",
      "text/html": "<div>\n<style scoped>\n    .dataframe tbody tr th:only-of-type {\n        vertical-align: middle;\n    }\n\n    .dataframe tbody tr th {\n        vertical-align: top;\n    }\n\n    .dataframe thead th {\n        text-align: right;\n    }\n</style>\n<table border=\"1\" class=\"dataframe\">\n  <thead>\n    <tr style=\"text-align: right;\">\n      <th></th>\n      <th>ANO</th>\n      <th>EDICAO</th>\n      <th>ETAPA</th>\n      <th>DS_ETAPA</th>\n      <th>CODIGO_IES</th>\n      <th>NOME_IES</th>\n      <th>SIGLA_IES</th>\n      <th>UF_IES</th>\n      <th>CODIGO_CAMPUS</th>\n      <th>NOME_CAMPUS</th>\n      <th>...</th>\n      <th>NOTA_L_COM_PESO</th>\n      <th>NOTA_CH_COM_PESO</th>\n      <th>NOTA_CN_COM_PESO</th>\n      <th>NOTA_M_COM_PESO</th>\n      <th>NOTA_R_COM_PESO</th>\n      <th>NOTA_CANDIDATO</th>\n      <th>NOTA_CORTE</th>\n      <th>CLASSIFICACAO</th>\n      <th>APROVADO</th>\n      <th>MATRICULA</th>\n    </tr>\n  </thead>\n  <tbody>\n    <tr>\n      <th>0</th>\n      <td>2022</td>\n      <td>2</td>\n      <td>4</td>\n      <td>CHAMADA REGULAR</td>\n      <td>593</td>\n      <td>CENTRO FEDERAL DE EDUCAÇÃO TECNOLÓGICA CELSO S...</td>\n      <td>CEFET/RJ</td>\n      <td>RJ</td>\n      <td>1663</td>\n      <td>CEFET-RJ - MARIA DA GRAÇA</td>\n      <td>...</td>\n      <td>516,4</td>\n      <td>576,4</td>\n      <td>985</td>\n      <td>2970,4</td>\n      <td>2280</td>\n      <td>666,2</td>\n      <td>684,31</td>\n      <td>NaN</td>\n      <td>N</td>\n      <td>PENDENTE</td>\n    </tr>\n    <tr>\n      <th>1</th>\n      <td>2022</td>\n      <td>2</td>\n      <td>4</td>\n      <td>CHAMADA REGULAR</td>\n      <td>593</td>\n      <td>CENTRO FEDERAL DE EDUCAÇÃO TECNOLÓGICA CELSO S...</td>\n      <td>CEFET/RJ</td>\n      <td>RJ</td>\n      <td>1663</td>\n      <td>CEFET-RJ - MARIA DA GRAÇA</td>\n      <td>...</td>\n      <td>550,8</td>\n      <td>619</td>\n      <td>1152</td>\n      <td>1887,6</td>\n      <td>1440</td>\n      <td>513,58</td>\n      <td>684,31</td>\n      <td>90.0</td>\n      <td>N</td>\n      <td>PENDENTE</td>\n    </tr>\n    <tr>\n      <th>2</th>\n      <td>2022</td>\n      <td>2</td>\n      <td>4</td>\n      <td>CHAMADA REGULAR</td>\n      <td>593</td>\n      <td>CENTRO FEDERAL DE EDUCAÇÃO TECNOLÓGICA CELSO S...</td>\n      <td>CEFET/RJ</td>\n      <td>RJ</td>\n      <td>1663</td>\n      <td>CEFET-RJ - MARIA DA GRAÇA</td>\n      <td>...</td>\n      <td>567,9</td>\n      <td>623,7</td>\n      <td>1108,6</td>\n      <td>2767,2</td>\n      <td>1740</td>\n      <td>618,85</td>\n      <td>684,31</td>\n      <td>68.0</td>\n      <td>N</td>\n      <td>PENDENTE</td>\n    </tr>\n    <tr>\n      <th>3</th>\n      <td>2022</td>\n      <td>2</td>\n      <td>4</td>\n      <td>CHAMADA REGULAR</td>\n      <td>593</td>\n      <td>CENTRO FEDERAL DE EDUCAÇÃO TECNOLÓGICA CELSO S...</td>\n      <td>CEFET/RJ</td>\n      <td>RJ</td>\n      <td>1663</td>\n      <td>CEFET-RJ - MARIA DA GRAÇA</td>\n      <td>...</td>\n      <td>588,2</td>\n      <td>597,7</td>\n      <td>1041,4</td>\n      <td>1902,4</td>\n      <td>2580</td>\n      <td>609,97</td>\n      <td>684,31</td>\n      <td>72.0</td>\n      <td>N</td>\n      <td>PENDENTE</td>\n    </tr>\n    <tr>\n      <th>4</th>\n      <td>2022</td>\n      <td>2</td>\n      <td>4</td>\n      <td>CHAMADA REGULAR</td>\n      <td>593</td>\n      <td>CENTRO FEDERAL DE EDUCAÇÃO TECNOLÓGICA CELSO S...</td>\n      <td>CEFET/RJ</td>\n      <td>RJ</td>\n      <td>1663</td>\n      <td>CEFET-RJ - MARIA DA GRAÇA</td>\n      <td>...</td>\n      <td>607,6</td>\n      <td>608</td>\n      <td>1011,2</td>\n      <td>2406,4</td>\n      <td>2520</td>\n      <td>650,29</td>\n      <td>684,31</td>\n      <td>47.0</td>\n      <td>N</td>\n      <td>PENDENTE</td>\n    </tr>\n    <tr>\n      <th>...</th>\n      <td>...</td>\n      <td>...</td>\n      <td>...</td>\n      <td>...</td>\n      <td>...</td>\n      <td>...</td>\n      <td>...</td>\n      <td>...</td>\n      <td>...</td>\n      <td>...</td>\n      <td>...</td>\n      <td>...</td>\n      <td>...</td>\n      <td>...</td>\n      <td>...</td>\n      <td>...</td>\n      <td>...</td>\n      <td>...</td>\n      <td>...</td>\n      <td>...</td>\n      <td>...</td>\n    </tr>\n    <tr>\n      <th>674800</th>\n      <td>2022</td>\n      <td>2</td>\n      <td>4</td>\n      <td>CHAMADA REGULAR</td>\n      <td>588</td>\n      <td>UNIVERSIDADE TECNOLÓGICA FEDERAL DO PARANÁ</td>\n      <td>UTFPR</td>\n      <td>PR</td>\n      <td>1030843</td>\n      <td>CÂMPUS TOLEDO</td>\n      <td>...</td>\n      <td>477,5</td>\n      <td>516,3</td>\n      <td>1142,2</td>\n      <td>1924</td>\n      <td>400</td>\n      <td>495,56</td>\n      <td>553,19</td>\n      <td>10.0</td>\n      <td>N</td>\n      <td>PENDENTE</td>\n    </tr>\n    <tr>\n      <th>674801</th>\n      <td>2022</td>\n      <td>2</td>\n      <td>4</td>\n      <td>CHAMADA REGULAR</td>\n      <td>588</td>\n      <td>UNIVERSIDADE TECNOLÓGICA FEDERAL DO PARANÁ</td>\n      <td>UTFPR</td>\n      <td>PR</td>\n      <td>1030843</td>\n      <td>CÂMPUS TOLEDO</td>\n      <td>...</td>\n      <td>541,6</td>\n      <td>528</td>\n      <td>1061,2</td>\n      <td>2670,8</td>\n      <td>800</td>\n      <td>622,4</td>\n      <td>553,19</td>\n      <td>3.0</td>\n      <td>S</td>\n      <td>NÃO COMPARECEU</td>\n    </tr>\n    <tr>\n      <th>674802</th>\n      <td>2022</td>\n      <td>2</td>\n      <td>4</td>\n      <td>CHAMADA REGULAR</td>\n      <td>588</td>\n      <td>UNIVERSIDADE TECNOLÓGICA FEDERAL DO PARANÁ</td>\n      <td>UTFPR</td>\n      <td>PR</td>\n      <td>1030843</td>\n      <td>CÂMPUS TOLEDO</td>\n      <td>...</td>\n      <td>362,4</td>\n      <td>470,9</td>\n      <td>792</td>\n      <td>1981,2</td>\n      <td>680</td>\n      <td>476,28</td>\n      <td>553,19</td>\n      <td>11.0</td>\n      <td>N</td>\n      <td>PENDENTE</td>\n    </tr>\n    <tr>\n      <th>674803</th>\n      <td>2022</td>\n      <td>2</td>\n      <td>4</td>\n      <td>CHAMADA REGULAR</td>\n      <td>588</td>\n      <td>UNIVERSIDADE TECNOLÓGICA FEDERAL DO PARANÁ</td>\n      <td>UTFPR</td>\n      <td>PR</td>\n      <td>1030843</td>\n      <td>CÂMPUS TOLEDO</td>\n      <td>...</td>\n      <td>558,3</td>\n      <td>562,4</td>\n      <td>919,2</td>\n      <td>2418,8</td>\n      <td>520</td>\n      <td>553,19</td>\n      <td>553,19</td>\n      <td>6.0</td>\n      <td>S</td>\n      <td>NÃO COMPARECEU</td>\n    </tr>\n    <tr>\n      <th>674804</th>\n      <td>2022</td>\n      <td>2</td>\n      <td>4</td>\n      <td>CHAMADA REGULAR</td>\n      <td>588</td>\n      <td>UNIVERSIDADE TECNOLÓGICA FEDERAL DO PARANÁ</td>\n      <td>UTFPR</td>\n      <td>PR</td>\n      <td>1030843</td>\n      <td>CÂMPUS TOLEDO</td>\n      <td>...</td>\n      <td>572,3</td>\n      <td>643,4</td>\n      <td>1158,4</td>\n      <td>2491,6</td>\n      <td>680</td>\n      <td>616,19</td>\n      <td>553,19</td>\n      <td>4.0</td>\n      <td>S</td>\n      <td>EFETIVADA</td>\n    </tr>\n  </tbody>\n</table>\n<p>674805 rows × 56 columns</p>\n</div>"
     },
     "execution_count": 17,
     "metadata": {},
     "output_type": "execute_result"
    }
   ],
   "source": [
    "import pandas as pd\n",
    "\n",
    "year = '2022' \n",
    "file_title = f'chamada_regular_{year}-2'\n",
    "\n",
    "# O CSV continha alguns caracteres ilegiveis para o pandas, foi necessário a configuração abaixo para leitura completa do CSV, para padronizar a escrita de todos os CSV's foi feita utilizando o UTF-8\n",
    "df = pd.read_csv(f'../../sisu_data/{year}/{file_title}.csv', encoding='ISO-8859-1', on_bad_lines='skip', sep=\"|\")\n",
    "#ISO-8859-1\n",
    "df"
   ]
  },
  {
   "cell_type": "code",
   "execution_count": 18,
   "outputs": [
    {
     "data": {
      "text/plain": "RangeIndex(start=0, stop=674805, step=1)"
     },
     "execution_count": 18,
     "metadata": {},
     "output_type": "execute_result"
    }
   ],
   "source": [
    "df.index"
   ],
   "metadata": {
    "collapsed": false,
    "ExecuteTime": {
     "end_time": "2024-02-28T19:24:57.446280681Z",
     "start_time": "2024-02-28T19:24:57.434689653Z"
    }
   },
   "id": "b2684c7efca9542d"
  },
  {
   "cell_type": "code",
   "execution_count": 19,
   "outputs": [
    {
     "name": "stderr",
     "output_type": "stream",
     "text": [
      "/tmp/ipykernel_8327/29357598.py:2: UserWarning: Boolean Series key will be reindexed to match DataFrame index.\n",
      "  pe = df.loc[df[\"NOME_IES\"] == \"UNIVERSIDADE FEDERAL DE PERNAMBUCO\"][df[\"MUNICIPIO_CAMPUS\"] == \"Recife\"]\n"
     ]
    },
    {
     "data": {
      "text/plain": "Empty DataFrame\nColumns: [ANO, EDICAO, ETAPA, DS_ETAPA, CODIGO_IES, NOME_IES, SIGLA_IES, UF_IES, CODIGO_CAMPUS, NOME_CAMPUS, UF_CAMPUS, MUNICIPIO_CAMPUS, CODIGO_CURSO, NOME_CURSO, GRAU, TURNO, DS_PERIODICIDADE, TP_COTA, TIPO_MOD_CONCORRENCIA, MOD_CONCORRENCIA, QT_VAGAS_CONCORRENCIA, PERCENTUAL_BONUS, PESO_L, PESO_CH, PESO_CN, PESO_M, PESO_R, NOTA_MINIMA_L, NOTA_MINIMA_CH, NOTA_MINIMA_CN, NOTA_MINIMA_M, NOTA_MINIMA_R, MEDIA_MINIMA, CPF, INSCRICAO_ENEM, INSCRITO, SEXO, DATA_NASCIMENTO, UF_CANDIDATO, MUNICIPIO_CANDIDATO, OPCAO, NOTA_L, NOTA_CH, NOTA_CN, NOTA_M, NOTA_R, NOTA_L_COM_PESO, NOTA_CH_COM_PESO, NOTA_CN_COM_PESO, NOTA_M_COM_PESO, NOTA_R_COM_PESO, NOTA_CANDIDATO, NOTA_CORTE, CLASSIFICACAO, APROVADO, MATRICULA]\nIndex: []\n\n[0 rows x 56 columns]",
      "text/html": "<div>\n<style scoped>\n    .dataframe tbody tr th:only-of-type {\n        vertical-align: middle;\n    }\n\n    .dataframe tbody tr th {\n        vertical-align: top;\n    }\n\n    .dataframe thead th {\n        text-align: right;\n    }\n</style>\n<table border=\"1\" class=\"dataframe\">\n  <thead>\n    <tr style=\"text-align: right;\">\n      <th></th>\n      <th>ANO</th>\n      <th>EDICAO</th>\n      <th>ETAPA</th>\n      <th>DS_ETAPA</th>\n      <th>CODIGO_IES</th>\n      <th>NOME_IES</th>\n      <th>SIGLA_IES</th>\n      <th>UF_IES</th>\n      <th>CODIGO_CAMPUS</th>\n      <th>NOME_CAMPUS</th>\n      <th>...</th>\n      <th>NOTA_L_COM_PESO</th>\n      <th>NOTA_CH_COM_PESO</th>\n      <th>NOTA_CN_COM_PESO</th>\n      <th>NOTA_M_COM_PESO</th>\n      <th>NOTA_R_COM_PESO</th>\n      <th>NOTA_CANDIDATO</th>\n      <th>NOTA_CORTE</th>\n      <th>CLASSIFICACAO</th>\n      <th>APROVADO</th>\n      <th>MATRICULA</th>\n    </tr>\n  </thead>\n  <tbody>\n  </tbody>\n</table>\n<p>0 rows × 56 columns</p>\n</div>"
     },
     "execution_count": 19,
     "metadata": {},
     "output_type": "execute_result"
    }
   ],
   "source": [
    "# A limpeza dos dados consistiu apenas em selecionar os cursos de pernambuco\n",
    "pe = df.loc[df[\"NOME_IES\"] == \"UNIVERSIDADE FEDERAL DE PERNAMBUCO\"][df[\"MUNICIPIO_CAMPUS\"] == \"Recife\"]\n",
    "pe"
   ],
   "metadata": {
    "collapsed": false,
    "ExecuteTime": {
     "end_time": "2024-02-28T19:24:57.620817557Z",
     "start_time": "2024-02-28T19:24:57.444722658Z"
    }
   },
   "id": "24f70499562abc6b"
  },
  {
   "cell_type": "code",
   "execution_count": 20,
   "outputs": [],
   "source": [
    "new_title = 'filtrado-'\n",
    "# filtrados.to_csv(f\"../{year}/{new_title}{file_title}.csv\", sep=\"|\", index=False, encoding='UTF-8')"
   ],
   "metadata": {
    "collapsed": false,
    "ExecuteTime": {
     "end_time": "2024-02-28T19:24:57.622879395Z",
     "start_time": "2024-02-28T19:24:57.614190756Z"
    }
   },
   "id": "cb231fa78155b0e0"
  },
  {
   "cell_type": "code",
   "outputs": [],
   "source": [],
   "metadata": {
    "collapsed": false,
    "ExecuteTime": {
     "end_time": "2024-02-28T19:24:57.633304657Z",
     "start_time": "2024-02-28T19:24:57.618817398Z"
    }
   },
   "id": "15d07a3864e46c60",
   "execution_count": 20
  }
 ],
 "metadata": {
  "kernelspec": {
   "display_name": "Python 3",
   "language": "python",
   "name": "python3"
  },
  "language_info": {
   "codemirror_mode": {
    "name": "ipython",
    "version": 2
   },
   "file_extension": ".py",
   "mimetype": "text/x-python",
   "name": "python",
   "nbconvert_exporter": "python",
   "pygments_lexer": "ipython2",
   "version": "2.7.6"
  }
 },
 "nbformat": 4,
 "nbformat_minor": 5
}
