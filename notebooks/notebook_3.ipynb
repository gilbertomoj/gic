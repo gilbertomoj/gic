{
 "cells": [
  {
   "cell_type": "code",
   "execution_count": 24,
   "id": "initial_id",
   "metadata": {
    "collapsed": true,
    "ExecuteTime": {
     "end_time": "2024-03-02T03:52:04.030726Z",
     "start_time": "2024-03-02T03:50:13.711897900Z"
    }
   },
   "outputs": [
    {
     "name": "stderr",
     "output_type": "stream",
     "text": [
      "C:\\Users\\Gilberto Medeiros\\AppData\\Local\\Temp\\ipykernel_20464\\141012083.py:3: DtypeWarning: Columns (17,22,23,24,25,26,27,28,29,30,31,32) have mixed types. Specify dtype option on import or set low_memory=False.\n",
      "  df_1 = pd.read_csv(\"../../sisu_data/2022/chamada_regular_2022-1.csv\", encoding='ISO-8859-1', sep=\"|\")\n",
      "C:\\Users\\Gilberto Medeiros\\AppData\\Local\\Temp\\ipykernel_20464\\141012083.py:4: DtypeWarning: Columns (20,22) have mixed types. Specify dtype option on import or set low_memory=False.\n",
      "  df_2 = pd.read_csv(\"../../sisu_data/2021/chamada_regular_2021-1.csv\", encoding='UTF-8', sep=\";\")\n",
      "C:\\Users\\Gilberto Medeiros\\AppData\\Local\\Temp\\ipykernel_20464\\141012083.py:5: DtypeWarning: Columns (18,22,23) have mixed types. Specify dtype option on import or set low_memory=False.\n",
      "  df_3 = pd.read_csv(\"../../sisu_data/2020/chamada_regular_2020-1.csv\", encoding='UTF-8', sep=\";\")\n",
      "C:\\Users\\Gilberto Medeiros\\AppData\\Local\\Temp\\ipykernel_20464\\141012083.py:6: DtypeWarning: Columns (18,20,21,22,23) have mixed types. Specify dtype option on import or set low_memory=False.\n",
      "  df_4 = pd.read_csv(\"../../sisu_data/2019/chamada_regular_2019-1.csv\", encoding='UTF-8', sep=\";\")\n"
     ]
    }
   ],
   "source": [
    "import pandas as pd\n",
    "\n",
    "df_1 = pd.read_csv(\"../../sisu_data/2022/chamada_regular_2022-1.csv\", encoding='ISO-8859-1', sep=\"|\")\n",
    "df_2 = pd.read_csv(\"../../sisu_data/2021/chamada_regular_2021-1.csv\", encoding='UTF-8', sep=\";\")\n",
    "df_3 = pd.read_csv(\"../../sisu_data/2020/chamada_regular_2020-1.csv\", encoding='UTF-8', sep=\";\")\n",
    "df_4 = pd.read_csv(\"../../sisu_data/2019/chamada_regular_2019-1.csv\", encoding='UTF-8', sep=\";\")\n"
   ]
  },
  {
   "cell_type": "code",
   "execution_count": 25,
   "outputs": [],
   "source": [
    "renaming_columns = {\n",
    "    'NU_ANO': 'ANO',\n",
    "    'NU_EDICAO': 'EDICAO',\n",
    "    'CO_ETAPA': 'ETAPA',\n",
    "    'CO_IES': 'CODIGO_IES',\n",
    "    'NO_IES': 'NOME_IES',\n",
    "    'SG_UF_IES': 'UF_IES',\n",
    "    'CO_CAMPUS': 'CODIGO_CAMPUS',\n",
    "    'NO_CAMPUS': 'NOME_CAMPUS',\n",
    "    'SG_UF_CAMPUS': 'UF_CAMPUS',\n",
    "    'NO_MUNUCIPIO_CAMPUS': 'MUNICIPIO_CAMPUS',\n",
    "    'CO_IES_CURSO': 'CODIGO_CURSO',\n",
    "    'NO_CURSO': 'NOME_CURSO',\n",
    "    'DS_GRAU': 'GRAU',\n",
    "    'DS_TURNO': 'TURNO',\n",
    "    'TP_MOD_CONCORRENCIA': 'TP_COTA',\n",
    "    'DS_MOD_CONCORRENCIA': 'TIPO_MOD_CONCORRENCIA',\n",
    "    'NU_PERCENTUAL_BONUS': 'PERCENTUAL_BONUS',\n",
    "    'NU_PESO_L': 'PESO_L',\n",
    "    'NU_PESO_CH': 'PESO_CH',\n",
    "    'NU_PESO_CN': 'PESO_CN',\n",
    "    'NU_PESO_M': 'PESO_M',\n",
    "    'NU_PESO_R': 'PESO_R',\n",
    "    'NU_NOTA_L': 'NOTA_MINIMA_L',\n",
    "    'NU_NOTA_CH': 'NOTA_MINIMA_CH',\n",
    "    'NU_NOTA_CN': 'NOTA_MINIMA_CN',\n",
    "    'NU_NOTA_M': 'NOTA_MINIMA_M',\n",
    "    'NU_NOTA_R': 'NOTA_MINIMA_R',\n",
    "    'NU_NOTACORTE': 'NOTA_CORTE',\n",
    "    'NU_CLASSIFICACAO': 'CLASSIFICACAO',\n",
    "    'ST_APROVADO': 'APROVADO',\n",
    "    'ST_MATRICULA': 'MATRICULA'\n",
    "}\n",
    "\n",
    "df_2.rename(columns=renaming_columns, inplace=True)\n",
    "df_3.rename(columns=renaming_columns, inplace=True)\n",
    "df_4.rename(columns=renaming_columns, inplace=True)"
   ],
   "metadata": {
    "collapsed": false,
    "ExecuteTime": {
     "end_time": "2024-03-02T03:52:04.146347300Z",
     "start_time": "2024-03-02T03:52:04.116896100Z"
    }
   },
   "id": "9326c55351053d26"
  },
  {
   "cell_type": "code",
   "execution_count": 26,
   "outputs": [],
   "source": [
    "courses = [\"CIÊNCIA DA COMPUTAÇÃO\", \"ENGENHARIA DA COMPUTAÇÃO\", \"SISTEMAS DE INFORMAÇÃO\", \"ESTATÍSTICA\", \"MATEMÁTICA\"]\n",
    "df_1_formatted = df_1.loc[df_1[\"NOME_CURSO\"].isin(courses)]\n",
    "df_2_formatted = df_2.loc[df_2[\"NOME_CURSO\"].isin(courses)]\n",
    "df_3_formatted = df_3.loc[df_3[\"NOME_CURSO\"].isin(courses)]\n",
    "df_4_formatted = df_4.loc[df_4[\"NOME_CURSO\"].isin(courses)]\n"
   ],
   "metadata": {
    "collapsed": false,
    "ExecuteTime": {
     "end_time": "2024-03-02T03:52:28.617073700Z",
     "start_time": "2024-03-02T03:52:04.270538100Z"
    }
   },
   "id": "43a28db1ca1d150c"
  },
  {
   "cell_type": "code",
   "execution_count": 27,
   "outputs": [],
   "source": [
    "df_1_formatted.to_csv(f\"../data/2022_filtered_data.csv\", sep=\"|\", index=False, encoding='UTF-8')\n",
    "df_2_formatted.to_csv(f\"../data/2021_filtered_data.csv\", sep=\"|\", index=False, encoding='UTF-8')\n",
    "df_3_formatted.to_csv(f\"../data/2020_filtered_data.csv\", sep=\"|\", index=False, encoding='UTF-8')\n",
    "df_4_formatted.to_csv(f\"../data/2019_filtered_data.csv\", sep=\"|\", index=False, encoding='UTF-8')"
   ],
   "metadata": {
    "collapsed": false,
    "ExecuteTime": {
     "end_time": "2024-03-02T03:52:38.544855800Z",
     "start_time": "2024-03-02T03:52:28.622070500Z"
    }
   },
   "id": "829ab53cb004df1b"
  }
 ],
 "metadata": {
  "kernelspec": {
   "display_name": "Python 3",
   "language": "python",
   "name": "python3"
  },
  "language_info": {
   "codemirror_mode": {
    "name": "ipython",
    "version": 2
   },
   "file_extension": ".py",
   "mimetype": "text/x-python",
   "name": "python",
   "nbconvert_exporter": "python",
   "pygments_lexer": "ipython2",
   "version": "2.7.6"
  }
 },
 "nbformat": 4,
 "nbformat_minor": 5
}
